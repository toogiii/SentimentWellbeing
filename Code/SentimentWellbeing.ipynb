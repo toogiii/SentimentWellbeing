{
 "cells": [
  {
   "cell_type": "markdown",
   "metadata": {},
   "source": [
    "# Project 2 Development Notebook: Sentiment and Wellbeing\n",
    "\n",
    "This file contains development code for project 2 for ECON 1680. It contains all code required to replicate the results outlined in the draft. Inline citations are included for all code segments that are not original. The code first cleans the data, generates some descriptive statistics, and then leverages the methodology discussed in the paper: \n",
    "\n",
    "## 1. Imports and Functions"
   ]
  },
  {
   "cell_type": "code",
   "execution_count": 21,
   "metadata": {},
   "outputs": [
    {
     "name": "stdout",
     "output_type": "stream",
     "text": [
      "Requirement already satisfied: vaderSentiment in c:\\users\\garvg\\appdata\\local\\programs\\python\\python39\\lib\\site-packages (3.3.2)\n",
      "Requirement already satisfied: requests in c:\\users\\garvg\\appdata\\local\\programs\\python\\python39\\lib\\site-packages (from vaderSentiment) (2.22.0)\n",
      "Requirement already satisfied: chardet<3.1.0,>=3.0.2 in c:\\users\\garvg\\appdata\\local\\programs\\python\\python39\\lib\\site-packages (from requests->vaderSentiment) (3.0.4)\n",
      "Requirement already satisfied: certifi>=2017.4.17 in c:\\users\\garvg\\appdata\\local\\programs\\python\\python39\\lib\\site-packages (from requests->vaderSentiment) (2021.5.30)\n",
      "Requirement already satisfied: urllib3!=1.25.0,!=1.25.1,<1.26,>=1.21.1 in c:\\users\\garvg\\appdata\\local\\programs\\python\\python39\\lib\\site-packages (from requests->vaderSentiment) (1.22)\n",
      "Requirement already satisfied: idna<2.9,>=2.5 in c:\\users\\garvg\\appdata\\local\\programs\\python\\python39\\lib\\site-packages (from requests->vaderSentiment) (2.6)\n"
     ]
    },
    {
     "name": "stderr",
     "output_type": "stream",
     "text": [
      "\n",
      "[notice] A new release of pip is available: 23.0.1 -> 24.0\n",
      "[notice] To update, run: C:\\Users\\garvg\\AppData\\Local\\Programs\\Python\\Python39\\python.exe -m pip install --upgrade pip\n"
     ]
    }
   ],
   "source": [
    "!pip install vaderSentiment"
   ]
  },
  {
   "cell_type": "code",
   "execution_count": 22,
   "metadata": {},
   "outputs": [],
   "source": [
    "import pandas as pd\n",
    "from vaderSentiment.vaderSentiment import SentimentIntensityAnalyzer\n",
    "import numpy as np\n",
    "import matplotlib.pyplot as plt\n",
    "import statsmodels.api as sm\n",
    "\n",
    "from sklearn.model_selection import train_test_split\n",
    "from sklearn.metrics import mean_squared_error\n",
    "from sklearn.linear_model import Lasso\n",
    "from sklearn.linear_model import Ridge\n",
    "from sklearn.preprocessing import StandardScaler\n",
    "from sklearn.pipeline import make_pipeline"
   ]
  },
  {
   "cell_type": "code",
   "execution_count": 23,
   "metadata": {},
   "outputs": [],
   "source": [
    "# Add a day to a given date\n",
    "def plus_day(date):\n",
    "    return date + pd.Timedelta(days=1)"
   ]
  },
  {
   "cell_type": "markdown",
   "metadata": {},
   "source": [
    "## 2. Data: Cleaning and Saving"
   ]
  },
  {
   "cell_type": "code",
   "execution_count": 24,
   "metadata": {},
   "outputs": [],
   "source": [
    "# Path to production directory: note that you must include Data, Figures, and Code subdirectories.\n",
    "path = \"C:\\\\Users\\\\garvg\\\\Downloads\\\\Project 2\\\\SentimentWellbeing\\\\\"\n",
    "\n",
    "# Read in independent Variable CSV data\n",
    "infl = pd.read_csv(path + \"Data\\\\I.csv\")\n",
    "unempl_rate = pd.read_csv(path + \"Data\\\\URate.csv\")\n",
    "gdp = pd.read_csv(path + \"Data\\\\GDP.csv\")\n",
    "gdp_per_cap = pd.read_csv(path + \"Data\\\\GDPC.csv\")\n",
    "real_gdp = pd.read_csv(path + \"Data\\\\RealGDP.csv\")\n",
    "rgdp_per_cap = pd.read_csv(path + \"Data\\\\RealGDPC.csv\")\n",
    "med_hi = pd.read_csv(path + \"Data\\\\MHI.csv\")\n",
    "rmed_hi = pd.read_csv(path + \"Data\\\\RMHI.csv\")\n",
    "\n",
    "# independent Variables\n",
    "indeps = [infl, unempl_rate, gdp, gdp_per_cap, real_gdp, rgdp_per_cap, med_hi, rmed_hi]"
   ]
  },
  {
   "cell_type": "code",
   "execution_count": 25,
   "metadata": {},
   "outputs": [
    {
     "name": "stderr",
     "output_type": "stream",
     "text": [
      "C:\\Users\\garvg\\AppData\\Local\\Temp\\ipykernel_4420\\2055520928.py:15: FutureWarning: 'M' is deprecated and will be removed in a future version, please use 'ME' instead.\n",
      "  date_range = pd.Series(pd.date_range(start=max_min_date - pd.Timedelta(days=1), end=min_max_date, freq='3M'))\n"
     ]
    }
   ],
   "source": [
    "# Convert date column to datetime objects\n",
    "for indep in indeps:\n",
    "    indep[\"DATE\"] = pd.to_datetime(indep[\"DATE\"])\n",
    "\n",
    "# Period of study determined by the sample of tweets available\n",
    "#   for information on dataset\n",
    "max_min_date = pd.to_datetime(\"01-01-2007\") # max([i[\"DATE\"].min() for i in indeps])\n",
    "min_max_date = pd.to_datetime(\"01-01-2015\") # min([i[\"DATE\"].max() for i in indeps])\n",
    "\n",
    "# Cut each independent variable to between the minimum and maximum dates\n",
    "for indep in indeps:\n",
    "    indep = indep[(indep[\"DATE\"] >= max_min_date) & (indep[\"DATE\"] < min_max_date)]\n",
    "\n",
    "# Create a date range with this\n",
    "date_range = pd.Series(pd.date_range(start=max_min_date - pd.Timedelta(days=1), end=min_max_date, freq='3M'))\n",
    "date_range = date_range.apply(plus_day)"
   ]
  },
  {
   "cell_type": "code",
   "execution_count": 26,
   "metadata": {},
   "outputs": [
    {
     "name": "stderr",
     "output_type": "stream",
     "text": [
      "C:\\Users\\garvg\\AppData\\Local\\Temp\\ipykernel_4420\\2954430251.py:16: FutureWarning: The default of observed=False is deprecated and will be changed to True in a future version of pandas. Pass observed=False to retain current behavior or observed=True to adopt the future default and silence this warning.\n",
      "  averaged = indep.groupby(pd.cut(indep[\"DATE\"], date_range, right = False))[var_name].mean()\n"
     ]
    }
   ],
   "source": [
    "# Create lists of variables \n",
    "#   to aggregate (organized at finer granularity than quarterly)\n",
    "#   to generate (organized at coarser granularity than quarterly, in this case yearly)\n",
    "#   and other (organized quarterly)\n",
    "to_aggregate_monthly = [unempl_rate]\n",
    "to_generate_yearly = [infl, med_hi, rmed_hi]\n",
    "other = [gdp, gdp_per_cap, real_gdp, rgdp_per_cap]\n",
    "\n",
    "# To aggregate the finer granularity variables\n",
    "for i in range(len(to_aggregate_monthly)):\n",
    "    # Get the given independent variable\n",
    "    indep = to_aggregate_monthly[i]\n",
    "    var_name = indep.columns[1]\n",
    "    \n",
    "    # Average over the quarterly period and assign these averages to the dataframe\n",
    "    averaged = indep.groupby(pd.cut(indep[\"DATE\"], date_range, right = False))[var_name].mean()\n",
    "    to_aggregate_monthly[i] = pd.DataFrame({\"DATE\": date_range[:-1], var_name: [i for i in averaged]})    \n",
    "\n",
    "# To fill coarser granularity values\n",
    "for i in range(len(to_generate_yearly)):\n",
    "    # Get the given independent variable and the desired columns\n",
    "    indep = to_generate_yearly[i]\n",
    "    columns_to_keep = [i for i in indep.columns]\n",
    "    \n",
    "    # Generate a year column from the date column of the independent variable\n",
    "    indep[\"YEAR\"] = indep[\"DATE\"].dt.year\n",
    "\n",
    "    # Create a dataframe with the desired dates\n",
    "    date_df = pd.DataFrame({\"DATE\": date_range})\n",
    "    # Merge the dataframe with the desired date, where the year of the quarterly date \n",
    "    #   matches the year value in the original dataset\n",
    "    new_indep = pd.merge(date_df, indep, left_on=date_df['DATE'].dt.year, right_on='YEAR', how='left')\n",
    "    new_indep[\"DATE\"] = new_indep[\"DATE_x\"]\n",
    "    \n",
    "    # Cut out non-desired coluns\n",
    "    to_generate_yearly[i] = new_indep[columns_to_keep]\n",
    "\n",
    "# Combine the three lists to get the independent variables\n",
    "indeps = to_aggregate_monthly + to_generate_yearly + other"
   ]
  },
  {
   "cell_type": "code",
   "execution_count": 27,
   "metadata": {},
   "outputs": [],
   "source": [
    "# Merge each dataset together to get one dataframe of independent variables\n",
    "indep_df = indeps.pop()\n",
    "while indeps != []:\n",
    "    indep_df = pd.merge(indep_df, indeps.pop(), on=\"DATE\")\n",
    "\n",
    "# Save this as a csv so we don't have to repeat this pre-processing step\n",
    "indep_df.to_csv(path + \"Data\\\\independents.csv\")"
   ]
  },
  {
   "cell_type": "code",
   "execution_count": 28,
   "metadata": {},
   "outputs": [],
   "source": [
    "# Import this data to avoid pre-processing independent data\n",
    "indep_df = pd.read_csv(path + \"Data\\\\independents.csv\")\n",
    "indep_df[\"DATE\"] = pd.to_datetime(indep_df[\"DATE\"])\n",
    "indep_df = indep_df.drop(columns=[\"Unnamed: 0\"])"
   ]
  },
  {
   "cell_type": "markdown",
   "metadata": {},
   "source": [
    "### Sentiment Generation"
   ]
  },
  {
   "cell_type": "code",
   "execution_count": 29,
   "metadata": {},
   "outputs": [
    {
     "name": "stderr",
     "output_type": "stream",
     "text": [
      "C:\\Users\\garvg\\AppData\\Local\\Temp\\ipykernel_4420\\2232136495.py:6: UserWarning: Could not infer format, so each element will be parsed individually, falling back to `dateutil`. To ensure parsing is consistent and as-expected, please specify a format.\n",
      "  tweets_df[\"DATE\"] = pd.to_datetime(tweets_df[\"created\"]).dt.date\n"
     ]
    }
   ],
   "source": [
    "# Read in tweets\n",
    "tweets_df = pd.read_csv(path + \"Data\\\\tweets.csv\", encoding=\"latin-1\")\n",
    "tweets_df = tweets_df[[\"created\", \"text\", \"user_timezone\"]]\n",
    "\n",
    "# Get date column to merge\n",
    "tweets_df[\"DATE\"] = pd.to_datetime(tweets_df[\"created\"]).dt.date\n",
    "\n",
    "# Keep only tweets in US timezones\n",
    "valid_timezones = ['Eastern Time (US & Canada)', 'Pacific Time (US & Canada)', 'Central Time (US & Canada)', \n",
    "                   'Atlantic Time (Canada)', 'Arizona', 'Mountain Time (US & Canada)', 'Hawaii', 'America/Los_Angeles',\n",
    "                   'Alaska', 'America/New_York', 'America/Chicago', 'EDT', 'America/Boise', 'PDT', 'CST', 'CDT', 'PST', 'America/Detroit']\n",
    "tweets_df = tweets_df[(tweets_df[\"user_timezone\"].isin(valid_timezones)) & (tweets_df[\"DATE\"] >= max_min_date.date()) & (tweets_df[\"DATE\"] < min_max_date.date())]\n",
    "\n",
    "tweets_df = tweets_df[[\"DATE\", \"text\"]]\n",
    "tweets_df = tweets_df.drop_duplicates(subset=['text'])"
   ]
  },
  {
   "cell_type": "code",
   "execution_count": 30,
   "metadata": {},
   "outputs": [],
   "source": [
    "# Calculate sentiment scores for each tweet using VADER\n",
    "analyzer = SentimentIntensityAnalyzer()\n",
    "scores = []\n",
    "\n",
    "# Get composite sentiment score and append to scores list\n",
    "for text in tweets_df[\"text\"]:\n",
    "    score = analyzer.polarity_scores(text)\n",
    "    scores.append(score[\"compound\"])\n",
    "\n",
    "# Add column and only keep date and score\n",
    "tweets_df[\"score\"] = scores\n",
    "tweets_df = tweets_df[[\"DATE\", \"score\"]].reset_index()"
   ]
  },
  {
   "cell_type": "code",
   "execution_count": 31,
   "metadata": {},
   "outputs": [
    {
     "name": "stderr",
     "output_type": "stream",
     "text": [
      "C:\\Users\\garvg\\AppData\\Local\\Temp\\ipykernel_4420\\681803699.py:3: FutureWarning: The default of observed=False is deprecated and will be changed to True in a future version of pandas. Pass observed=False to retain current behavior or observed=True to adopt the future default and silence this warning.\n",
      "  averaged = tweets_df.groupby(pd.cut(tweets_df[\"DATE\"], date_range, right = False))[\"score\"].mean()\n"
     ]
    }
   ],
   "source": [
    "# To aggregate the scores    \n",
    "# Average over the quarterly period and assign these averages to the dataframe\n",
    "averaged = tweets_df.groupby(pd.cut(tweets_df[\"DATE\"], date_range, right = False))[\"score\"].mean()\n",
    "df_tweet_scores = pd.DataFrame({\"DATE\": date_range[:-1], \"score\": [i for i in averaged]}) \n",
    "\n",
    "# Merge and save cleaned data\n",
    "df_all_obs = pd.merge(indep_df, df_tweet_scores, on=\"DATE\").dropna()\n",
    "df_all_obs.to_csv(path + \"Data\\\\cleaned.csv\")"
   ]
  },
  {
   "cell_type": "code",
   "execution_count": 32,
   "metadata": {},
   "outputs": [],
   "source": [
    "# Import observations (cleaned)\n",
    "df_all_obs = pd.read_csv(path + \"Data\\\\cleaned.csv\")"
   ]
  },
  {
   "cell_type": "markdown",
   "metadata": {},
   "source": [
    "## 3. Descriptive Statistics\n",
    "\n",
    "Note: After running the above code, we may always start here since the pre-processing steps are saved in the cleaned.csv file."
   ]
  },
  {
   "cell_type": "code",
   "execution_count": 33,
   "metadata": {},
   "outputs": [],
   "source": [
    "# Load data\n",
    "working_data = pd.read_csv(path + \"Data\\\\cleaned.csv\").drop(columns=[\"Unnamed: 0\"])"
   ]
  },
  {
   "cell_type": "code",
   "execution_count": 34,
   "metadata": {},
   "outputs": [
    {
     "data": {
      "text/html": [
       "<div>\n",
       "<style scoped>\n",
       "    .dataframe tbody tr th:only-of-type {\n",
       "        vertical-align: middle;\n",
       "    }\n",
       "\n",
       "    .dataframe tbody tr th {\n",
       "        vertical-align: top;\n",
       "    }\n",
       "\n",
       "    .dataframe thead th {\n",
       "        text-align: right;\n",
       "    }\n",
       "</style>\n",
       "<table border=\"1\" class=\"dataframe\">\n",
       "  <thead>\n",
       "    <tr style=\"text-align: right;\">\n",
       "      <th></th>\n",
       "      <th>Real GDP per Capita</th>\n",
       "      <th>Real GDP</th>\n",
       "      <th>GDP per Capita</th>\n",
       "      <th>GDP</th>\n",
       "      <th>Real Median Household Income</th>\n",
       "      <th>Median Household Income</th>\n",
       "      <th>Inflation</th>\n",
       "      <th>Unemployment Rate</th>\n",
       "      <th>score</th>\n",
       "    </tr>\n",
       "  </thead>\n",
       "  <tbody>\n",
       "    <tr>\n",
       "      <th>count</th>\n",
       "      <td>32.000000</td>\n",
       "      <td>32.000000</td>\n",
       "      <td>32.000000</td>\n",
       "      <td>32.000000</td>\n",
       "      <td>32.00000</td>\n",
       "      <td>32.000000</td>\n",
       "      <td>32.000000</td>\n",
       "      <td>32.000000</td>\n",
       "      <td>32.000000</td>\n",
       "    </tr>\n",
       "    <tr>\n",
       "      <th>mean</th>\n",
       "      <td>55175.093750</td>\n",
       "      <td>17156.480281</td>\n",
       "      <td>50260.875000</td>\n",
       "      <td>15639.206250</td>\n",
       "      <td>65297.50000</td>\n",
       "      <td>50988.750000</td>\n",
       "      <td>2.036188</td>\n",
       "      <td>7.479167</td>\n",
       "      <td>0.116744</td>\n",
       "    </tr>\n",
       "    <tr>\n",
       "      <th>std</th>\n",
       "      <td>1209.087722</td>\n",
       "      <td>619.696893</td>\n",
       "      <td>2715.988239</td>\n",
       "      <td>1128.893632</td>\n",
       "      <td>1653.05387</td>\n",
       "      <td>1615.061669</td>\n",
       "      <td>1.220748</td>\n",
       "      <td>1.768740</td>\n",
       "      <td>0.069240</td>\n",
       "    </tr>\n",
       "    <tr>\n",
       "      <th>min</th>\n",
       "      <td>53017.000000</td>\n",
       "      <td>16269.145000</td>\n",
       "      <td>46865.000000</td>\n",
       "      <td>14215.651000</td>\n",
       "      <td>63350.00000</td>\n",
       "      <td>49280.000000</td>\n",
       "      <td>-0.355546</td>\n",
       "      <td>4.500000</td>\n",
       "      <td>-0.131931</td>\n",
       "    </tr>\n",
       "    <tr>\n",
       "      <th>25%</th>\n",
       "      <td>54386.000000</td>\n",
       "      <td>16735.700000</td>\n",
       "      <td>48112.500000</td>\n",
       "      <td>14692.715750</td>\n",
       "      <td>64062.50000</td>\n",
       "      <td>49982.500000</td>\n",
       "      <td>1.582875</td>\n",
       "      <td>6.050000</td>\n",
       "      <td>0.092249</td>\n",
       "    </tr>\n",
       "  </tbody>\n",
       "</table>\n",
       "</div>"
      ],
      "text/plain": [
       "       Real GDP per Capita      Real GDP  GDP per Capita           GDP  \\\n",
       "count            32.000000     32.000000       32.000000     32.000000   \n",
       "mean          55175.093750  17156.480281    50260.875000  15639.206250   \n",
       "std            1209.087722    619.696893     2715.988239   1128.893632   \n",
       "min           53017.000000  16269.145000    46865.000000  14215.651000   \n",
       "25%           54386.000000  16735.700000    48112.500000  14692.715750   \n",
       "\n",
       "       Real Median Household Income  Median Household Income  Inflation  \\\n",
       "count                      32.00000                32.000000  32.000000   \n",
       "mean                    65297.50000             50988.750000   2.036188   \n",
       "std                      1653.05387              1615.061669   1.220748   \n",
       "min                     63350.00000             49280.000000  -0.355546   \n",
       "25%                     64062.50000             49982.500000   1.582875   \n",
       "\n",
       "       Unemployment Rate      score  \n",
       "count          32.000000  32.000000  \n",
       "mean            7.479167   0.116744  \n",
       "std             1.768740   0.069240  \n",
       "min             4.500000  -0.131931  \n",
       "25%             6.050000   0.092249  "
      ]
     },
     "execution_count": 34,
     "metadata": {},
     "output_type": "execute_result"
    }
   ],
   "source": [
    "# Write descriptive statistics to logfile\n",
    "summary_statistics = working_data.describe()\n",
    "summary_statistics.to_csv(path + '\\\\Figures\\\\Descriptive\\\\summary_statistics.csv', index_label='Metric')\n",
    "summary_statistics.head()"
   ]
  },
  {
   "cell_type": "markdown",
   "metadata": {},
   "source": [
    "## 4. Regressions\n",
    "\n",
    "We use standard OLS estimation, LASSO, and Ridge regressions to capture both what variables are the most correlated and predictive of long-term trends, average magnitude, and short-term volatility in local housing prices."
   ]
  },
  {
   "cell_type": "code",
   "execution_count": 35,
   "metadata": {},
   "outputs": [],
   "source": [
    "# Create lists of dependent and independent variables for analysis\n",
    "all_cols = working_data.columns.tolist()\n",
    "indeps = [i for i in all_cols if i != \"score\" and i != \"DATE\"]\n",
    "dep = [\"score\"]"
   ]
  },
  {
   "cell_type": "markdown",
   "metadata": {},
   "source": [
    "### OLS"
   ]
  },
  {
   "cell_type": "code",
   "execution_count": 36,
   "metadata": {},
   "outputs": [
    {
     "name": "stdout",
     "output_type": "stream",
     "text": [
      "                            OLS Regression Results                            \n",
      "==============================================================================\n",
      "Dep. Variable:                  score   R-squared:                       0.000\n",
      "Model:                            OLS   Adj. R-squared:                 -0.033\n",
      "Method:                 Least Squares   F-statistic:                 0.0009103\n",
      "Date:                Sun, 07 Apr 2024   Prob (F-statistic):              0.976\n",
      "Time:                        20:31:21   Log-Likelihood:                 40.548\n",
      "No. Observations:                  32   AIC:                            -77.10\n",
      "Df Residuals:                      30   BIC:                            -74.16\n",
      "Df Model:                           1                                         \n",
      "Covariance Type:            nonrobust                                         \n",
      "=======================================================================================\n",
      "                          coef    std err          t      P>|t|      [0.025      0.975]\n",
      "---------------------------------------------------------------------------------------\n",
      "const                   0.0993      0.577      0.172      0.864      -1.079       1.278\n",
      "Real GDP per Capita  3.155e-07   1.05e-05      0.030      0.976    -2.1e-05    2.17e-05\n",
      "==============================================================================\n",
      "Omnibus:                       25.739   Durbin-Watson:                   1.557\n",
      "Prob(Omnibus):                  0.000   Jarque-Bera (JB):               46.570\n",
      "Skew:                          -1.910   Prob(JB):                     7.72e-11\n",
      "Kurtosis:                       7.510   Cond. No.                     2.56e+06\n",
      "==============================================================================\n",
      "\n",
      "Notes:\n",
      "[1] Standard Errors assume that the covariance matrix of the errors is correctly specified.\n",
      "[2] The condition number is large, 2.56e+06. This might indicate that there are\n",
      "strong multicollinearity or other numerical problems.\n",
      "                            OLS Regression Results                            \n",
      "==============================================================================\n",
      "Dep. Variable:                  score   R-squared:                       0.035\n",
      "Model:                            OLS   Adj. R-squared:                  0.003\n",
      "Method:                 Least Squares   F-statistic:                     1.096\n",
      "Date:                Sun, 07 Apr 2024   Prob (F-statistic):              0.303\n",
      "Time:                        20:31:21   Log-Likelihood:                 41.122\n",
      "No. Observations:                  32   AIC:                            -78.24\n",
      "Df Residuals:                      30   BIC:                            -75.31\n",
      "Df Model:                           1                                         \n",
      "Covariance Type:            nonrobust                                         \n",
      "==============================================================================\n",
      "                 coef    std err          t      P>|t|      [0.025      0.975]\n",
      "------------------------------------------------------------------------------\n",
      "const         -0.2432      0.344     -0.707      0.485      -0.946       0.459\n",
      "Real GDP    2.098e-05      2e-05      1.047      0.303   -1.99e-05    6.19e-05\n",
      "==============================================================================\n",
      "Omnibus:                       23.360   Durbin-Watson:                   1.612\n",
      "Prob(Omnibus):                  0.000   Jarque-Bera (JB):               36.822\n",
      "Skew:                          -1.819   Prob(JB):                     1.01e-08\n",
      "Kurtosis:                       6.792   Cond. No.                     4.83e+05\n",
      "==============================================================================\n",
      "\n",
      "Notes:\n",
      "[1] Standard Errors assume that the covariance matrix of the errors is correctly specified.\n",
      "[2] The condition number is large, 4.83e+05. This might indicate that there are\n",
      "strong multicollinearity or other numerical problems.\n",
      "                            OLS Regression Results                            \n",
      "==============================================================================\n",
      "Dep. Variable:                  score   R-squared:                       0.051\n",
      "Model:                            OLS   Adj. R-squared:                  0.019\n",
      "Method:                 Least Squares   F-statistic:                     1.610\n",
      "Date:                Sun, 07 Apr 2024   Prob (F-statistic):              0.214\n",
      "Time:                        20:31:21   Log-Likelihood:                 41.384\n",
      "No. Observations:                  32   AIC:                            -78.77\n",
      "Df Residuals:                      30   BIC:                            -75.84\n",
      "Df Model:                           1                                         \n",
      "Covariance Type:            nonrobust                                         \n",
      "==================================================================================\n",
      "                     coef    std err          t      P>|t|      [0.025      0.975]\n",
      "----------------------------------------------------------------------------------\n",
      "const             -0.1725      0.228     -0.756      0.456      -0.639       0.294\n",
      "GDP per Capita  5.754e-06   4.53e-06      1.269      0.214   -3.51e-06     1.5e-05\n",
      "==============================================================================\n",
      "Omnibus:                       21.720   Durbin-Watson:                   1.638\n",
      "Prob(Omnibus):                  0.000   Jarque-Bera (JB):               31.841\n",
      "Skew:                          -1.733   Prob(JB):                     1.22e-07\n",
      "Kurtosis:                       6.445   Cond. No.                     9.48e+05\n",
      "==============================================================================\n",
      "\n",
      "Notes:\n",
      "[1] Standard Errors assume that the covariance matrix of the errors is correctly specified.\n",
      "[2] The condition number is large, 9.48e+05. This might indicate that there are\n",
      "strong multicollinearity or other numerical problems.\n",
      "                            OLS Regression Results                            \n",
      "==============================================================================\n",
      "Dep. Variable:                  score   R-squared:                       0.067\n",
      "Model:                            OLS   Adj. R-squared:                  0.036\n",
      "Method:                 Least Squares   F-statistic:                     2.154\n",
      "Date:                Sun, 07 Apr 2024   Prob (F-statistic):              0.153\n",
      "Time:                        20:31:21   Log-Likelihood:                 41.657\n",
      "No. Observations:                  32   AIC:                            -79.31\n",
      "Df Residuals:                      30   BIC:                            -76.38\n",
      "Df Model:                           1                                         \n",
      "Covariance Type:            nonrobust                                         \n",
      "==============================================================================\n",
      "                 coef    std err          t      P>|t|      [0.025      0.975]\n",
      "------------------------------------------------------------------------------\n",
      "const         -0.1315      0.170     -0.776      0.444      -0.478       0.215\n",
      "GDP         1.588e-05   1.08e-05      1.468      0.153   -6.22e-06     3.8e-05\n",
      "==============================================================================\n",
      "Omnibus:                       19.997   Durbin-Watson:                   1.665\n",
      "Prob(Omnibus):                  0.000   Jarque-Bera (JB):               27.236\n",
      "Skew:                          -1.639   Prob(JB):                     1.22e-06\n",
      "Kurtosis:                       6.112   Cond. No.                     2.21e+05\n",
      "==============================================================================\n",
      "\n",
      "Notes:\n",
      "[1] Standard Errors assume that the covariance matrix of the errors is correctly specified.\n",
      "[2] The condition number is large, 2.21e+05. This might indicate that there are\n",
      "strong multicollinearity or other numerical problems.\n",
      "                            OLS Regression Results                            \n",
      "==============================================================================\n",
      "Dep. Variable:                  score   R-squared:                       0.177\n",
      "Model:                            OLS   Adj. R-squared:                  0.149\n",
      "Method:                 Least Squares   F-statistic:                     6.433\n",
      "Date:                Sun, 07 Apr 2024   Prob (F-statistic):             0.0166\n",
      "Time:                        20:31:21   Log-Likelihood:                 43.656\n",
      "No. Observations:                  32   AIC:                            -83.31\n",
      "Df Residuals:                      30   BIC:                            -80.38\n",
      "Df Model:                           1                                         \n",
      "Covariance Type:            nonrobust                                         \n",
      "================================================================================================\n",
      "                                   coef    std err          t      P>|t|      [0.025      0.975]\n",
      "------------------------------------------------------------------------------------------------\n",
      "const                            1.2660      0.453      2.793      0.009       0.340       2.192\n",
      "Real Median Household Income  -1.76e-05   6.94e-06     -2.536      0.017   -3.18e-05   -3.43e-06\n",
      "==============================================================================\n",
      "Omnibus:                        6.740   Durbin-Watson:                   1.846\n",
      "Prob(Omnibus):                  0.034   Jarque-Bera (JB):                5.068\n",
      "Skew:                          -0.836   Prob(JB):                       0.0794\n",
      "Kurtosis:                       4.003   Cond. No.                     2.62e+06\n",
      "==============================================================================\n",
      "\n",
      "Notes:\n",
      "[1] Standard Errors assume that the covariance matrix of the errors is correctly specified.\n",
      "[2] The condition number is large, 2.62e+06. This might indicate that there are\n",
      "strong multicollinearity or other numerical problems.\n",
      "                            OLS Regression Results                            \n",
      "==============================================================================\n",
      "Dep. Variable:                  score   R-squared:                       0.019\n",
      "Model:                            OLS   Adj. R-squared:                 -0.013\n",
      "Method:                 Least Squares   F-statistic:                    0.5935\n",
      "Date:                Sun, 07 Apr 2024   Prob (F-statistic):              0.447\n",
      "Time:                        20:31:21   Log-Likelihood:                 40.861\n",
      "No. Observations:                  32   AIC:                            -77.72\n",
      "Df Residuals:                      30   BIC:                            -74.79\n",
      "Df Model:                           1                                         \n",
      "Covariance Type:            nonrobust                                         \n",
      "===========================================================================================\n",
      "                              coef    std err          t      P>|t|      [0.025      0.975]\n",
      "-------------------------------------------------------------------------------------------\n",
      "const                      -0.1877      0.395     -0.475      0.638      -0.995       0.620\n",
      "Median Household Income  5.971e-06   7.75e-06      0.770      0.447   -9.86e-06    2.18e-05\n",
      "==============================================================================\n",
      "Omnibus:                       25.176   Durbin-Watson:                   1.587\n",
      "Prob(Omnibus):                  0.000   Jarque-Bera (JB):               43.280\n",
      "Skew:                          -1.908   Prob(JB):                     4.00e-10\n",
      "Kurtosis:                       7.231   Cond. No.                     1.64e+06\n",
      "==============================================================================\n",
      "\n",
      "Notes:\n",
      "[1] Standard Errors assume that the covariance matrix of the errors is correctly specified.\n",
      "[2] The condition number is large, 1.64e+06. This might indicate that there are\n",
      "strong multicollinearity or other numerical problems.\n",
      "                            OLS Regression Results                            \n",
      "==============================================================================\n",
      "Dep. Variable:                  score   R-squared:                       0.035\n",
      "Model:                            OLS   Adj. R-squared:                  0.003\n",
      "Method:                 Least Squares   F-statistic:                     1.102\n",
      "Date:                Sun, 07 Apr 2024   Prob (F-statistic):              0.302\n",
      "Time:                        20:31:21   Log-Likelihood:                 41.124\n",
      "No. Observations:                  32   AIC:                            -78.25\n",
      "Df Residuals:                      30   BIC:                            -75.32\n",
      "Df Model:                           1                                         \n",
      "Covariance Type:            nonrobust                                         \n",
      "==============================================================================\n",
      "                 coef    std err          t      P>|t|      [0.025      0.975]\n",
      "------------------------------------------------------------------------------\n",
      "const          0.1385      0.024      5.759      0.000       0.089       0.188\n",
      "Inflation     -0.0107      0.010     -1.050      0.302      -0.031       0.010\n",
      "==============================================================================\n",
      "Omnibus:                       23.118   Durbin-Watson:                   1.595\n",
      "Prob(Omnibus):                  0.000   Jarque-Bera (JB):               38.072\n",
      "Skew:                          -1.747   Prob(JB):                     5.40e-09\n",
      "Kurtosis:                       7.043   Cond. No.                         5.30\n",
      "==============================================================================\n",
      "\n",
      "Notes:\n",
      "[1] Standard Errors assume that the covariance matrix of the errors is correctly specified.\n",
      "                            OLS Regression Results                            \n",
      "==============================================================================\n",
      "Dep. Variable:                  score   R-squared:                       0.077\n",
      "Model:                            OLS   Adj. R-squared:                  0.046\n",
      "Method:                 Least Squares   F-statistic:                     2.503\n",
      "Date:                Sun, 07 Apr 2024   Prob (F-statistic):              0.124\n",
      "Time:                        20:31:21   Log-Likelihood:                 41.830\n",
      "No. Observations:                  32   AIC:                            -79.66\n",
      "Df Residuals:                      30   BIC:                            -76.73\n",
      "Df Model:                           1                                         \n",
      "Covariance Type:            nonrobust                                         \n",
      "=====================================================================================\n",
      "                        coef    std err          t      P>|t|      [0.025      0.975]\n",
      "-------------------------------------------------------------------------------------\n",
      "const                 0.0355      0.053      0.673      0.506      -0.072       0.143\n",
      "Unemployment Rate     0.0109      0.007      1.582      0.124      -0.003       0.025\n",
      "==============================================================================\n",
      "Omnibus:                       12.929   Durbin-Watson:                   1.698\n",
      "Prob(Omnibus):                  0.002   Jarque-Bera (JB):               14.539\n",
      "Skew:                          -1.100   Prob(JB):                     0.000697\n",
      "Kurtosis:                       5.463   Cond. No.                         34.4\n",
      "==============================================================================\n",
      "\n",
      "Notes:\n",
      "[1] Standard Errors assume that the covariance matrix of the errors is correctly specified.\n"
     ]
    }
   ],
   "source": [
    "# Conduct OLS Regression on all indicators individually\n",
    "for indep in indeps:\n",
    "    working_ys = working_data[dep]\n",
    "    working_xs = sm.add_constant(working_data[indep])\n",
    "\n",
    "    ols = sm.OLS(working_ys, working_xs).fit()\n",
    "    print(ols.summary())"
   ]
  },
  {
   "cell_type": "code",
   "execution_count": 37,
   "metadata": {},
   "outputs": [
    {
     "name": "stdout",
     "output_type": "stream",
     "text": [
      "                            OLS Regression Results                            \n",
      "==============================================================================\n",
      "Dep. Variable:                  score   R-squared:                       0.300\n",
      "Model:                            OLS   Adj. R-squared:                  0.057\n",
      "Method:                 Least Squares   F-statistic:                     1.233\n",
      "Date:                Sun, 07 Apr 2024   Prob (F-statistic):              0.325\n",
      "Time:                        20:31:21   Log-Likelihood:                 46.256\n",
      "No. Observations:                  32   AIC:                            -74.51\n",
      "Df Residuals:                      23   BIC:                            -61.32\n",
      "Df Model:                           8                                         \n",
      "Covariance Type:            nonrobust                                         \n",
      "================================================================================================\n",
      "                                   coef    std err          t      P>|t|      [0.025      0.975]\n",
      "------------------------------------------------------------------------------------------------\n",
      "const                            1.0153      3.682      0.276      0.785      -6.601       8.632\n",
      "Real GDP per Capita             -0.0009      0.002     -0.560      0.581      -0.004       0.002\n",
      "Real GDP                         0.0028      0.005      0.535      0.598      -0.008       0.014\n",
      "GDP per Capita                   0.0011      0.001      0.759      0.456      -0.002       0.004\n",
      "GDP                             -0.0034      0.005     -0.704      0.488      -0.013       0.007\n",
      "Real Median Household Income -4.631e-05   3.34e-05     -1.385      0.179      -0.000    2.29e-05\n",
      "Median Household Income       3.043e-05   4.06e-05      0.750      0.461   -5.35e-05       0.000\n",
      "Inflation                       -0.0331      0.021     -1.597      0.124      -0.076       0.010\n",
      "Unemployment Rate               -0.0183      0.070     -0.261      0.797      -0.164       0.127\n",
      "==============================================================================\n",
      "Omnibus:                        2.993   Durbin-Watson:                   1.971\n",
      "Prob(Omnibus):                  0.224   Jarque-Bera (JB):                1.903\n",
      "Skew:                          -0.578   Prob(JB):                        0.386\n",
      "Kurtosis:                       3.298   Cond. No.                     3.53e+07\n",
      "==============================================================================\n",
      "\n",
      "Notes:\n",
      "[1] Standard Errors assume that the covariance matrix of the errors is correctly specified.\n",
      "[2] The condition number is large, 3.53e+07. This might indicate that there are\n",
      "strong multicollinearity or other numerical problems.\n"
     ]
    }
   ],
   "source": [
    "# Conduct OLS Regression on all indicators\n",
    "working_ys = working_data[dep]\n",
    "working_xs = sm.add_constant(working_data[indeps])\n",
    "\n",
    "ols = sm.OLS(working_ys, working_xs).fit()\n",
    "print(ols.summary())"
   ]
  },
  {
   "cell_type": "markdown",
   "metadata": {},
   "source": [
    "### LASSO\n",
    "\n",
    "We conduct this analysis to assess variable selection and dimension reduction, particularly in the context of what hazards are important in predicting ZHVI characteristics."
   ]
  },
  {
   "cell_type": "code",
   "execution_count": 38,
   "metadata": {},
   "outputs": [
    {
     "name": "stderr",
     "output_type": "stream",
     "text": [
      "c:\\Users\\garvg\\anaconda3\\envs\\mlta\\lib\\site-packages\\sklearn\\linear_model\\_coordinate_descent.py:648: ConvergenceWarning: Objective did not converge. You might want to increase the number of iterations, check the scale of the features or consider increasing regularisation. Duality gap: 1.559e-02, tolerance: 7.981e-06\n",
      "  model = cd_fast.enet_coordinate_descent(\n"
     ]
    },
    {
     "name": "stdout",
     "output_type": "stream",
     "text": [
      "1e-06\n"
     ]
    },
    {
     "data": {
      "image/png": "[encoded data removed]",
      "text/plain": [
       "<Figure size 640x480 with 1 Axes>"
      ]
     },
     "metadata": {},
     "output_type": "display_data"
    }
   ],
   "source": [
    "# Conduct LASSO Regression on all indicators\n",
    "\n",
    "# Split data\n",
    "\n",
    "working_ys = working_data[dep]\n",
    "working_xs = working_data[indeps]\n",
    "\n",
    "X_train, X_test, y_train, y_test = train_test_split(working_xs, working_ys, test_size=0.1, random_state=1680)\n",
    "\n",
    "# Note: Code inspired by and borrowed from review session + homework 2\n",
    "# Construct vectors to store mean prediction errors and coefficients\n",
    "cv_errs_lasso = []\n",
    "opt_coefs_lasso = None\n",
    "opt_alpha_lasso = 0\n",
    "min_MSE = 0\n",
    "counter = 0\n",
    "\n",
    "# Define alphas and models\n",
    "alphas = np.linspace(1e-6, 5, num=500)\n",
    "lasso_models = [make_pipeline(StandardScaler(with_mean=False), \n",
    "                             Lasso(alpha=alpha * np.sqrt(X_train.shape[0]), max_iter=10000)) for alpha in alphas]\n",
    "\n",
    "# Train and test models\n",
    "for model in lasso_models:\n",
    "    # Fit model, evaluate using testing data, and compute mean-squared error\n",
    "    model.fit(X_train, y_train)\n",
    "    y_pred = model.predict(X_test)\n",
    "    MSE = mean_squared_error(y_test, y_pred)\n",
    "    \n",
    "    # Store prediction error\n",
    "    cv_errs_lasso.append(MSE)\n",
    "    \n",
    "    # If we are on the first model or a model with less than minimum prediction error\n",
    "    #   update new minimum, optimized alpha, and associated coefficients\n",
    "    if counter == 0 or MSE < min_MSE:\n",
    "        min_MSE = MSE\n",
    "        opt_alpha_lasso = alphas[counter]\n",
    "        opt_coefs_lasso = model['lasso'].coef_\n",
    "    counter += 1\n",
    "    \n",
    "print(opt_alpha_lasso)\n",
    "\n",
    "# Plot alphas against prediction errors and label\n",
    "plt.plot(alphas, cv_errs_lasso)\n",
    "plt.xlabel(r'$\\alpha$')\n",
    "plt.ylabel('Mean Squared Error')\n",
    "plt.title(r'Lasso (Economic Indicators vs. Sentiment): $\\alpha$s vs. Prediction Error')\n",
    "plt.savefig(path + '\\\\Figures\\\\alphaLASSO.png')\n",
    "plt.show()"
   ]
  },
  {
   "cell_type": "markdown",
   "metadata": {},
   "source": [
    "### Ridge\n",
    "\n",
    "We conduct this analysis for the same reason as LASSO: to assess variable selection and dimension reduction."
   ]
  },
  {
   "cell_type": "code",
   "execution_count": 39,
   "metadata": {},
   "outputs": [
    {
     "name": "stdout",
     "output_type": "stream",
     "text": [
      "0.5811632084168338\n"
     ]
    },
    {
     "data": {
      "image/png": "[encoded data removed]",
      "text/plain": [
       "<Figure size 640x480 with 1 Axes>"
      ]
     },
     "metadata": {},
     "output_type": "display_data"
    }
   ],
   "source": [
    "# Conduct Ridge Regression on all indicators\n",
    "\n",
    "# Drop nan observations and split data\n",
    "\n",
    "X_train, X_test, y_train, y_test = train_test_split(working_xs, working_ys, test_size=0.1, random_state=1680)\n",
    "\n",
    "# Construct vectors to store mean prediction errors and coefficients\n",
    "cv_errs_ridge = []\n",
    "opt_coefs_ridge = None\n",
    "opt_alpha_ridge = 0\n",
    "min_MSE = 0\n",
    "counter = 0\n",
    "\n",
    "# Define models\n",
    "ridge_models = [make_pipeline(StandardScaler(with_mean=False), \n",
    "                             Ridge(alpha=alpha * np.sqrt(X_train.shape[0]), max_iter=10000)) for alpha in alphas]\n",
    "# Train and test models\n",
    "for model in ridge_models:\n",
    "    # Fit model, evaluate using testing data, and compute mean-squared error\n",
    "    model.fit(X_train, y_train)\n",
    "    y_pred = model.predict(X_test)\n",
    "    MSE = mean_squared_error(y_test, y_pred)\n",
    "    \n",
    "    # Store prediction error\n",
    "    cv_errs_ridge.append(MSE)\n",
    "    \n",
    "    # If we are on the first model or a model with less than minimum prediction error\n",
    "    #   update new minimum, optimized alpha, and associated coefficients\n",
    "    if counter == 0 or MSE < min_MSE:\n",
    "        min_MSE = MSE\n",
    "        opt_alpha_ridge = alphas[counter]\n",
    "        opt_coefs_ridge = model['ridge'].coef_\n",
    "    counter += 1\n",
    "    \n",
    "print(opt_alpha_ridge)\n",
    "\n",
    "# Plot alphas against prediction errors and label\n",
    "plt.plot(alphas, cv_errs_ridge)\n",
    "plt.xlabel(r'$\\alpha$')\n",
    "plt.ylabel('Mean Squared Error')\n",
    "plt.title(r'Ridge: (Economic Indicators vs. Sentiment) $\\alpha$s vs. Prediction Error')\n",
    "plt.savefig(path + '\\\\Figures\\\\alphaRidge.png')\n",
    "plt.show()"
   ]
  },
  {
   "cell_type": "markdown",
   "metadata": {},
   "source": [
    "### Coefficient Comparison: OLS vs. LASSO vs. Ridge Regressions\n",
    "\n",
    "Notice here that the inputs to the LASSO and Ridge regressions are scaled, which leads to non-comparable magnitudes for these regressions. We can interpret LASSO and Ridge coefficients in terms of prediction importance."
   ]
  },
  {
   "cell_type": "code",
   "execution_count": 40,
   "metadata": {},
   "outputs": [
    {
     "name": "stdout",
     "output_type": "stream",
     "text": [
      "Economic Indicators vs. Sentiment\n",
      "                            var   val_ols  val_lasso  var_ridge\n",
      "0           Real GDP per Capita -0.000865   0.090291  -0.005718\n",
      "1                      Real GDP  0.002784   0.025911  -0.005154\n",
      "2                GDP per Capita  0.001069  -0.510261  -0.003380\n",
      "3                           GDP -0.003390   0.277967  -0.003194\n",
      "4  Real Median Household Income -0.000046  -0.099315  -0.023081\n",
      "5       Median Household Income  0.000030   0.099906   0.012557\n",
      "6                     Inflation -0.033059  -0.032766  -0.008030\n",
      "7             Unemployment Rate -0.018339  -0.059251  -0.015483\n"
     ]
    }
   ],
   "source": [
    "# Coefficient comparison\n",
    "\n",
    "coef_comp = pd.DataFrame({\n",
    "    'var' : indeps,\n",
    "    'val_ols' : ols.params.tolist()[1:], \n",
    "    'val_lasso' : opt_coefs_lasso, \n",
    "    'var_ridge' : opt_coefs_ridge[0]\n",
    "})\n",
    "\n",
    "print(\"Economic Indicators vs. Sentiment\")\n",
    "print(coef_comp)"
   ]
  }
 ],
 "metadata": {
  "kernelspec": {
   "display_name": "mlta",
   "language": "python",
   "name": "python3"
  },
  "language_info": {
   "codemirror_mode": {
    "name": "ipython",
    "version": 3
   },
   "file_extension": ".py",
   "mimetype": "text/x-python",
   "name": "python",
   "nbconvert_exporter": "python",
   "pygments_lexer": "ipython3",
   "version": "3.10.13"
  }
 },
 "nbformat": 4,
 "nbformat_minor": 2
}
